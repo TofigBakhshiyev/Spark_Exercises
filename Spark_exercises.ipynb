{
  "nbformat": 4,
  "nbformat_minor": 0,
  "metadata": {
    "colab": {
      "name": "Spark_exercises.ipynb",
      "provenance": [],
      "collapsed_sections": [],
      "toc_visible": true
    },
    "kernelspec": {
      "name": "python3",
      "display_name": "Python 3"
    }
  },
  "cells": [
    {
      "cell_type": "code",
      "metadata": {
        "id": "sfgnFdKaTtE2",
        "colab_type": "code",
        "colab": {}
      },
      "source": [
        "import pandas as pd"
      ],
      "execution_count": 0,
      "outputs": []
    },
    {
      "cell_type": "code",
      "metadata": {
        "id": "KaQJExcEc0yl",
        "colab_type": "code",
        "colab": {}
      },
      "source": [
        "!ls"
      ],
      "execution_count": 0,
      "outputs": []
    },
    {
      "cell_type": "markdown",
      "metadata": {
        "id": "aR1QwW8OlErG",
        "colab_type": "text"
      },
      "source": [
        "# Install Spark"
      ]
    },
    {
      "cell_type": "code",
      "metadata": {
        "id": "bsdRI2stlRAt",
        "colab_type": "code",
        "colab": {}
      },
      "source": [
        "!apt-get update \n",
        "!sudo apt-get install openjdk-8-jre-headless \n",
        "!wget -q https://downloads.apache.org/spark/spark-2.4.5/spark-2.4.5-bin-hadoop2.7.tgz\n",
        "!tar xf spark-2.4.5-bin-hadoop2.7.tgz\n",
        "!pip install -q findspark"
      ],
      "execution_count": 0,
      "outputs": []
    },
    {
      "cell_type": "code",
      "metadata": {
        "id": "Qg-YxO8anyPV",
        "colab_type": "code",
        "colab": {}
      },
      "source": [
        "import os\n",
        "os.environ[\"JAVA_HOME\"] = \"/usr/lib/jvm/java-8-openjdk-amd64\"\n",
        "os.environ[\"SPARK_HOME\"] = \"/content/spark-2.4.5-bin-hadoop2.7\""
      ],
      "execution_count": 0,
      "outputs": []
    },
    {
      "cell_type": "code",
      "metadata": {
        "id": "6TOB1UzBpfX6",
        "colab_type": "code",
        "colab": {}
      },
      "source": [
        "import findspark\n",
        "findspark.init()\n",
        "from pyspark import SparkContext\n",
        "\n",
        "sc = SparkContext.getOrCreate()\n",
        "\n",
        "import pyspark\n",
        "from pyspark.sql import  SparkSession\n",
        "spark = SparkSession.builder.getOrCreate()\n",
        "spark"
      ],
      "execution_count": 0,
      "outputs": []
    },
    {
      "cell_type": "markdown",
      "metadata": {
        "id": "u2LKbFFkw7Zk",
        "colab_type": "text"
      },
      "source": [
        "# Downloading and preprocessing Chicago's Reported Crime Data"
      ]
    },
    {
      "cell_type": "code",
      "metadata": {
        "id": "Z9tsl0bMxJCD",
        "colab_type": "code",
        "colab": {}
      },
      "source": [
        "!wget https://data.cityofchicago.org/api/views/ijzp-q8t2/rows.csv?accessType=DOWNLOAD"
      ],
      "execution_count": 0,
      "outputs": []
    },
    {
      "cell_type": "code",
      "metadata": {
        "id": "EJ1TyhCbyKC7",
        "colab_type": "code",
        "colab": {}
      },
      "source": [
        "!ls"
      ],
      "execution_count": 0,
      "outputs": []
    },
    {
      "cell_type": "code",
      "metadata": {
        "id": "sEFTKoe_yLBw",
        "colab_type": "code",
        "colab": {}
      },
      "source": [
        "!mv rows.csv\\?accessType\\=DOWNLOAD reported-crimes.csv"
      ],
      "execution_count": 0,
      "outputs": []
    },
    {
      "cell_type": "code",
      "metadata": {
        "id": "Td8CqeHbyceY",
        "colab_type": "code",
        "colab": {}
      },
      "source": [
        "from pyspark.sql.functions import to_timestamp, col, lit\n",
        "rc = spark.read.csv('reported-crimes.csv', header=True).withColumn('Date', to_timestamp(col('Date'), 'MM/dd/yyyy hh:mm:ss a')) \n",
        "rc.show(5)"
      ],
      "execution_count": 0,
      "outputs": []
    },
    {
      "cell_type": "markdown",
      "metadata": {
        "id": "Xpwxy3Of9BwZ",
        "colab_type": "text"
      },
      "source": [
        "# Schemas"
      ]
    },
    {
      "cell_type": "code",
      "metadata": {
        "id": "7Q1UEGl59EdP",
        "colab_type": "code",
        "colab": {}
      },
      "source": [
        "rc.printSchema()"
      ],
      "execution_count": 0,
      "outputs": []
    },
    {
      "cell_type": "code",
      "metadata": {
        "id": "oShApEhO9UkA",
        "colab_type": "code",
        "colab": {}
      },
      "source": [
        "from pyspark.sql.types import StringType, StructField, StructType, TimestampType, BooleanType, DoubleType, IntegerType"
      ],
      "execution_count": 0,
      "outputs": []
    },
    {
      "cell_type": "code",
      "metadata": {
        "id": "BOp3zqTD9wWX",
        "colab_type": "code",
        "colab": {}
      },
      "source": [
        "rc.columns"
      ],
      "execution_count": 0,
      "outputs": []
    },
    {
      "cell_type": "code",
      "metadata": {
        "id": "BOztWj9_9oVf",
        "colab_type": "code",
        "colab": {}
      },
      "source": [
        " "
      ],
      "execution_count": 0,
      "outputs": []
    },
    {
      "cell_type": "code",
      "metadata": {
        "id": "qtSFfuRK-fet",
        "colab_type": "code",
        "colab": {}
      },
      "source": [
        "labels = [\n",
        "          ('ID', StringType()),\n",
        "          ('Case Number', StringType()),\n",
        "          ('Date', TimestampType()),\n",
        "          ('Block', StringType()),\n",
        "          ('IUCR', StringType()),\n",
        "          ('Primary Type', StringType()),\n",
        "          ('Description', StringType()),\n",
        "          ('Location Description', StringType()),\n",
        "          ('Arrest', StringType()),\n",
        "          ('Domestic', BooleanType()),\n",
        "          ('Beat', StringType()),\n",
        "          ('District', StringType()),\n",
        "          ('Ward', StringType()),\n",
        "          ('Community Area', StringType()),\n",
        "          ('FBI Code', StringType()),\n",
        "          ('X Coordinate', StringType()),\n",
        "          ('Y Coordinate', StringType()),\n",
        "          ('Year', IntegerType()),\n",
        "          ('Updated On', StringType()),\n",
        "          ('Latitude', DoubleType()),\n",
        "          ('Longitude', DoubleType()),\n",
        "          ('Location', StringType()),\n",
        " ]"
      ],
      "execution_count": 0,
      "outputs": []
    },
    {
      "cell_type": "code",
      "metadata": {
        "id": "wjI0PJCF_roT",
        "colab_type": "code",
        "colab": {}
      },
      "source": [
        "schema = StructType([StructField(x[0], x[1], True) for x in labels])\n",
        "schema"
      ],
      "execution_count": 0,
      "outputs": []
    },
    {
      "cell_type": "code",
      "metadata": {
        "id": "PR7WiLVHAyvF",
        "colab_type": "code",
        "colab": {}
      },
      "source": [
        "''' rc = spark.read.csv('reported-crimes.csv', schema=schema)\n",
        "rc.printSchema() '''"
      ],
      "execution_count": 0,
      "outputs": []
    },
    {
      "cell_type": "code",
      "metadata": {
        "id": "yuWFrn8jBMFz",
        "colab_type": "code",
        "colab": {}
      },
      "source": [
        "rc.show(5)"
      ],
      "execution_count": 0,
      "outputs": []
    },
    {
      "cell_type": "code",
      "metadata": {
        "id": "poqzCWERFVCM",
        "colab_type": "code",
        "colab": {}
      },
      "source": [
        "rc.select('IUCR').show(5)\n",
        "rc.select(rc.IUCR).show(5)"
      ],
      "execution_count": 0,
      "outputs": []
    },
    {
      "cell_type": "code",
      "metadata": {
        "id": "oINrPO_zGBK0",
        "colab_type": "code",
        "colab": {}
      },
      "source": [
        "rc.select(col('IUCR')).show(5)"
      ],
      "execution_count": 0,
      "outputs": []
    },
    {
      "cell_type": "code",
      "metadata": {
        "id": "Xca7oxTiGNH1",
        "colab_type": "code",
        "colab": {}
      },
      "source": [
        "rc.select('Case Number', 'Date', 'Arrest').show(4)"
      ],
      "execution_count": 0,
      "outputs": []
    },
    {
      "cell_type": "code",
      "metadata": {
        "id": "kZPOPyaAGkD5",
        "colab_type": "code",
        "colab": {}
      },
      "source": [
        "from pyspark.sql.functions import  lit\n",
        "rc.withColumn('One', lit(1)).show(5)"
      ],
      "execution_count": 0,
      "outputs": []
    },
    {
      "cell_type": "code",
      "metadata": {
        "id": "7cr6wWpXGzvR",
        "colab_type": "code",
        "colab": {}
      },
      "source": [
        "rc = rc.drop('IUCR')\n",
        "rc.show(5)"
      ],
      "execution_count": 0,
      "outputs": []
    },
    {
      "cell_type": "markdown",
      "metadata": {
        "id": "u9ZOVNPaHUrt",
        "colab_type": "text"
      },
      "source": [
        "# Working with rows"
      ]
    },
    {
      "cell_type": "code",
      "metadata": {
        "id": "oLAfQdRsHYYg",
        "colab_type": "code",
        "colab": {}
      },
      "source": [
        "one_day = spark.read.csv('reported-crimes.csv', header=True).withColumn('Date', to_timestamp(col('Date'), 'MM/dd/yyyy hh:mm:ss a')).filter(col('Date') == lit('2018-11-12')) \n",
        "one_day.count()"
      ],
      "execution_count": 0,
      "outputs": []
    },
    {
      "cell_type": "code",
      "metadata": {
        "id": "04mEbfblILLA",
        "colab_type": "code",
        "colab": {}
      },
      "source": [
        "# rc.union(one_day).orderBy('Date', ascending=False).show(5)"
      ],
      "execution_count": 0,
      "outputs": []
    },
    {
      "cell_type": "code",
      "metadata": {
        "id": "EPl3UK8cJFa6",
        "colab_type": "code",
        "colab": {}
      },
      "source": [
        "rc.groupBy('Primary Type').count().show()"
      ],
      "execution_count": 0,
      "outputs": []
    },
    {
      "cell_type": "code",
      "metadata": {
        "id": "4swW0PCkJZFO",
        "colab_type": "code",
        "colab": {}
      },
      "source": [
        "rc.groupBy('Primary Type').count().orderBy('count', ascending=False).show(5)"
      ],
      "execution_count": 0,
      "outputs": []
    },
    {
      "cell_type": "markdown",
      "metadata": {
        "id": "nojzOak4J467",
        "colab_type": "text"
      },
      "source": [
        "# What percentage of reported crimes resulted in an arrest?"
      ]
    },
    {
      "cell_type": "code",
      "metadata": {
        "id": "qMxDNuPCKED9",
        "colab_type": "code",
        "colab": {}
      },
      "source": [
        "rc.select('Arrest').distinct().show()"
      ],
      "execution_count": 0,
      "outputs": []
    },
    {
      "cell_type": "code",
      "metadata": {
        "id": "eBhIGtoyKM5t",
        "colab_type": "code",
        "colab": {}
      },
      "source": [
        "rc.printSchema()"
      ],
      "execution_count": 0,
      "outputs": []
    },
    {
      "cell_type": "code",
      "metadata": {
        "id": "9tkxJWnQKTzm",
        "colab_type": "code",
        "colab": {}
      },
      "source": [
        "rc.filter(col('Arrest') == 'true').count() / rc.select('Arrest').count()"
      ],
      "execution_count": 0,
      "outputs": []
    },
    {
      "cell_type": "markdown",
      "metadata": {
        "id": "dWhNOWuIKs13",
        "colab_type": "text"
      },
      "source": [
        "**What are the top 3 locations for reported crimes?**"
      ]
    },
    {
      "cell_type": "code",
      "metadata": {
        "id": "Ol6WHExAK3Lb",
        "colab_type": "code",
        "colab": {}
      },
      "source": [
        "rc.groupby('Location Description').count().orderBy('count', ascending=False).show(3)"
      ],
      "execution_count": 0,
      "outputs": []
    },
    {
      "cell_type": "markdown",
      "metadata": {
        "id": "poZPWt7iLayU",
        "colab_type": "text"
      },
      "source": [
        "# Functions"
      ]
    },
    {
      "cell_type": "code",
      "metadata": {
        "id": "PL7JEJB0Ld0n",
        "colab_type": "code",
        "colab": {}
      },
      "source": [
        "from pyspark.sql import functions \n",
        "print(dir(functions))"
      ],
      "execution_count": 0,
      "outputs": []
    },
    {
      "cell_type": "markdown",
      "metadata": {
        "id": "yR-kwEWNGVfx",
        "colab_type": "text"
      },
      "source": [
        "**String Functions**"
      ]
    },
    {
      "cell_type": "code",
      "metadata": {
        "id": "4wwigMBKGYvV",
        "colab_type": "code",
        "colab": {}
      },
      "source": [
        "from pyspark.sql.functions import lower, upper, substring"
      ],
      "execution_count": 0,
      "outputs": []
    },
    {
      "cell_type": "code",
      "metadata": {
        "id": "d4GwQNbAGsbz",
        "colab_type": "code",
        "colab": {}
      },
      "source": [
        "help(substring)"
      ],
      "execution_count": 0,
      "outputs": []
    },
    {
      "cell_type": "code",
      "metadata": {
        "id": "2GVcD8K6HFmH",
        "colab_type": "code",
        "colab": {}
      },
      "source": [
        "rc.select(lower(col('Primary Type')), upper(col('Primary Type')), substring(col('Primary Type'),1,4)).show(5)"
      ],
      "execution_count": 0,
      "outputs": []
    },
    {
      "cell_type": "markdown",
      "metadata": {
        "id": "olbpBTCCIATm",
        "colab_type": "text"
      },
      "source": [
        "**Numeric Functions**"
      ]
    },
    {
      "cell_type": "code",
      "metadata": {
        "id": "WdoO8mpgID5q",
        "colab_type": "code",
        "colab": {}
      },
      "source": [
        "from pyspark.sql.functions import min, max"
      ],
      "execution_count": 0,
      "outputs": []
    },
    {
      "cell_type": "code",
      "metadata": {
        "id": "g9uTXISIIKMj",
        "colab_type": "code",
        "colab": {}
      },
      "source": [
        "rc.select(min(col('Date')), max(col('Date'))).show(1)"
      ],
      "execution_count": 0,
      "outputs": []
    },
    {
      "cell_type": "markdown",
      "metadata": {
        "id": "rT4fc4ayLWdA",
        "colab_type": "text"
      },
      "source": [
        "**Date**"
      ]
    },
    {
      "cell_type": "code",
      "metadata": {
        "id": "nnmUUf3fLY5U",
        "colab_type": "code",
        "colab": {}
      },
      "source": [
        "from pyspark.sql.functions import date_add, date_sub"
      ],
      "execution_count": 0,
      "outputs": []
    },
    {
      "cell_type": "code",
      "metadata": {
        "id": "HuyXa6UuLi67",
        "colab_type": "code",
        "colab": {}
      },
      "source": [
        "help(date_add)\n",
        "help(date_sub)"
      ],
      "execution_count": 0,
      "outputs": []
    },
    {
      "cell_type": "code",
      "metadata": {
        "id": "wI7OjzkqLthu",
        "colab_type": "code",
        "colab": {}
      },
      "source": [
        "rc.select(date_sub(min(col('Date')),3), date_add(max(col('Date')),3)).show(1)"
      ],
      "execution_count": 0,
      "outputs": []
    },
    {
      "cell_type": "code",
      "metadata": {
        "id": "MD2vQ-nxQRbw",
        "colab_type": "code",
        "colab": {}
      },
      "source": [
        "from pyspark.sql.functions import to_date, to_timestamp, lit"
      ],
      "execution_count": 0,
      "outputs": []
    },
    {
      "cell_type": "code",
      "metadata": {
        "id": "Ad9alK-wQYnx",
        "colab_type": "code",
        "colab": {}
      },
      "source": [
        "df = spark.createDataFrame([('2020-12-25 13:30:00', )], ['Christmas'])\n",
        "df.show(1)"
      ],
      "execution_count": 0,
      "outputs": []
    },
    {
      "cell_type": "code",
      "metadata": {
        "id": "T7_qRgo2S-DW",
        "colab_type": "code",
        "colab": {}
      },
      "source": [
        "df.select(to_date(col('Christmas'), 'yyyy-MM-dd HH:mm:ss'), to_timestamp(col('Christmas'), 'yyyy-MM-dd HH:mm:ss')).show(1)"
      ],
      "execution_count": 0,
      "outputs": []
    },
    {
      "cell_type": "code",
      "metadata": {
        "id": "PzLldlYgTwjk",
        "colab_type": "code",
        "colab": {}
      },
      "source": [
        "df = spark.createDataFrame([('25/Dec/2020 13:30:00', )], ['Christmas'])\n",
        "df.show(1)"
      ],
      "execution_count": 0,
      "outputs": []
    },
    {
      "cell_type": "code",
      "metadata": {
        "id": "tqw25mE-T5tv",
        "colab_type": "code",
        "colab": {}
      },
      "source": [
        "df.select(to_date(col('Christmas'), 'dd/MMM/yyyy HH:mm:ss'), to_timestamp(col('Christmas'), 'dd/MMM/yyyy HH:mm:ss')).show(1)"
      ],
      "execution_count": 0,
      "outputs": []
    },
    {
      "cell_type": "code",
      "metadata": {
        "id": "WX0s713mUSv7",
        "colab_type": "code",
        "colab": {}
      },
      "source": [
        "df = spark.createDataFrame([('25/Dec/2020 01:30:00 PM', )], ['Christmas'])\n",
        "df.show(1, truncate=False)"
      ],
      "execution_count": 0,
      "outputs": []
    },
    {
      "cell_type": "code",
      "metadata": {
        "id": "0CegdooQUhzq",
        "colab_type": "code",
        "colab": {}
      },
      "source": [
        "df.select(to_date(col('Christmas'), 'MM/dd/yyyy hh:mm:ss aa'), to_timestamp(col('Christmas'), 'MM/dd/yyyy hh:mm:ss aa')).show(1)"
      ],
      "execution_count": 0,
      "outputs": []
    },
    {
      "cell_type": "code",
      "metadata": {
        "id": "rYuvksHBU7-q",
        "colab_type": "code",
        "colab": {}
      },
      "source": [
        "n = spark.read.csv('reported-crimes.csv', header=True)\n",
        "n.show(5, truncate=False)"
      ],
      "execution_count": 0,
      "outputs": []
    },
    {
      "cell_type": "markdown",
      "metadata": {
        "id": "nUkCj8Hpar-Z",
        "colab_type": "text"
      },
      "source": [
        "# Joins"
      ]
    },
    {
      "cell_type": "markdown",
      "metadata": {
        "id": "2R7Y9nygbTAM",
        "colab_type": "text"
      },
      "source": [
        "**Download police stations data from Chicago data portal**"
      ]
    },
    {
      "cell_type": "code",
      "metadata": {
        "id": "6cnQz6K6bgis",
        "colab_type": "code",
        "colab": {}
      },
      "source": [
        "!wget -O police-station.csv https://data.cityofchicago.org/api/views/z8bn-74gv/rows.csv?accessType=DOWNLOAD\n",
        "!ls -l"
      ],
      "execution_count": 0,
      "outputs": []
    },
    {
      "cell_type": "code",
      "metadata": {
        "id": "EiVAMGOObz-U",
        "colab_type": "code",
        "colab": {}
      },
      "source": [
        "ps = spark.read.csv('police-station.csv', header=True)\n",
        "ps.show(5)"
      ],
      "execution_count": 0,
      "outputs": []
    },
    {
      "cell_type": "markdown",
      "metadata": {
        "id": "iBE9oADDgnZX",
        "colab_type": "text"
      },
      "source": [
        "**The reported crimes dataset has only the district number. Add the district name by joining the with the police station dataset**"
      ]
    },
    {
      "cell_type": "code",
      "metadata": {
        "id": "hJvveEEPg7se",
        "colab_type": "code",
        "colab": {}
      },
      "source": [
        "rc.cache()\n",
        "rc.count()"
      ],
      "execution_count": 0,
      "outputs": []
    },
    {
      "cell_type": "code",
      "metadata": {
        "id": "ruP02rgRgjCc",
        "colab_type": "code",
        "colab": {}
      },
      "source": [
        "ps.select(col('DISTRICT')).distinct().show(30)"
      ],
      "execution_count": 0,
      "outputs": []
    },
    {
      "cell_type": "code",
      "metadata": {
        "id": "H2LVU0Ash79I",
        "colab_type": "code",
        "colab": {}
      },
      "source": [
        "rc.select(col('District')).distinct().show(30)"
      ],
      "execution_count": 0,
      "outputs": []
    },
    {
      "cell_type": "code",
      "metadata": {
        "id": "f0XQ0kPliQCN",
        "colab_type": "code",
        "colab": {}
      },
      "source": [
        "from pyspark.sql.functions import lpad"
      ],
      "execution_count": 0,
      "outputs": []
    },
    {
      "cell_type": "code",
      "metadata": {
        "id": "yqIMCbTaiZa1",
        "colab_type": "code",
        "colab": {}
      },
      "source": [
        "help(lpad)"
      ],
      "execution_count": 0,
      "outputs": []
    },
    {
      "cell_type": "markdown",
      "metadata": {
        "id": "dUXw6Pgwixm1",
        "colab_type": "text"
      },
      "source": [
        "*add zeros for crime districts numbers be same with police station district numbers*"
      ]
    },
    {
      "cell_type": "code",
      "metadata": {
        "id": "fVqYxhqCiccx",
        "colab_type": "code",
        "colab": {}
      },
      "source": [
        "ps.select(lpad(col('DISTRICT'), 3, '0')).show()"
      ],
      "execution_count": 0,
      "outputs": []
    },
    {
      "cell_type": "code",
      "metadata": {
        "id": "IM6upOA3jST8",
        "colab_type": "code",
        "colab": {}
      },
      "source": [
        "ps = ps.withColumn('Format_district', lpad(col('DISTRICT'), 3, '0'))\n",
        "ps.show(5)"
      ],
      "execution_count": 0,
      "outputs": []
    },
    {
      "cell_type": "code",
      "metadata": {
        "id": "pnNhqRPyjsDj",
        "colab_type": "code",
        "colab": {}
      },
      "source": [
        "rc.join(ps, rc.District == ps.Format_district, 'left_outer').show(5)"
      ],
      "execution_count": 0,
      "outputs": []
    },
    {
      "cell_type": "code",
      "metadata": {
        "id": "dhjR7oBDkTcU",
        "colab_type": "code",
        "colab": {}
      },
      "source": [
        "ps.columns"
      ],
      "execution_count": 0,
      "outputs": []
    },
    {
      "cell_type": "code",
      "metadata": {
        "id": "2PRJcBdDkZLR",
        "colab_type": "code",
        "colab": {}
      },
      "source": [
        "rc.join(ps, rc.District == ps.Format_district, 'left_outer').drop(\n",
        "  'ADDRESS',\n",
        "  'CITY',\n",
        "  'STATE',\n",
        "  'ZIP',\n",
        "  'WEBSITE',\n",
        "  'PHONE',\n",
        "  'FAX',\n",
        "  'TTY',\n",
        "  'X COORDINATE',\n",
        "  'Y COORDINATE',\n",
        "  'LATITUDE',\n",
        "  'LONGITUDE',\n",
        "  'LOCATION',\n",
        "  'Format_district'\n",
        "  ).show(5)"
      ],
      "execution_count": 0,
      "outputs": []
    },
    {
      "cell_type": "markdown",
      "metadata": {
        "id": "3Bq0sLFqlnzO",
        "colab_type": "text"
      },
      "source": [
        "**What is the most frequently reported non-criminal activity?**"
      ]
    },
    {
      "cell_type": "code",
      "metadata": {
        "id": "_IObQwf8lxZq",
        "colab_type": "code",
        "colab": {}
      },
      "source": [
        "rc.cache()\n",
        "rc.count()"
      ],
      "execution_count": 0,
      "outputs": []
    },
    {
      "cell_type": "code",
      "metadata": {
        "id": "Xckyvp7zmEVm",
        "colab_type": "code",
        "colab": {}
      },
      "source": [
        "rc.show(5)"
      ],
      "execution_count": 0,
      "outputs": []
    },
    {
      "cell_type": "code",
      "metadata": {
        "id": "zEhFIof_mJ9o",
        "colab_type": "code",
        "colab": {}
      },
      "source": [
        "rc.select(col('Primary Type')).distinct().count()"
      ],
      "execution_count": 0,
      "outputs": []
    },
    {
      "cell_type": "code",
      "metadata": {
        "id": "V1lPOg_emkEv",
        "colab_type": "code",
        "colab": {}
      },
      "source": [
        "rc.select(col('Primary Type')).distinct().orderBy(col('Primary Type')).show(35, truncate=False)"
      ],
      "execution_count": 0,
      "outputs": []
    },
    {
      "cell_type": "code",
      "metadata": {
        "id": "bAcfPppXnZ8T",
        "colab_type": "code",
        "colab": {}
      },
      "source": [
        "nc = rc.filter( (col('Primary Type') == 'NON - CRIMINAL') | (col('Primary Type') == 'NON-CRIMINAL')\n",
        " | (col('Primary Type') == 'NON-CRIMINAL (SUBJECT SPECIFIED)') )\n",
        "nc.show(50)"
      ],
      "execution_count": 0,
      "outputs": []
    },
    {
      "cell_type": "code",
      "metadata": {
        "id": "f5qbCaQOm80F",
        "colab_type": "code",
        "colab": {}
      },
      "source": [
        "nc.groupBy(col('Description')).count().orderBy('count', ascending=False).show(truncate=False)"
      ],
      "execution_count": 0,
      "outputs": []
    },
    {
      "cell_type": "markdown",
      "metadata": {
        "id": "v63eYdAZo_hF",
        "colab_type": "text"
      },
      "source": [
        "**Which day of the week has the most number of reported crime?**"
      ]
    },
    {
      "cell_type": "code",
      "metadata": {
        "id": "OFmCvCfgo9xY",
        "colab_type": "code",
        "colab": {}
      },
      "source": [
        "from pyspark.sql.functions import dayofweek"
      ],
      "execution_count": 0,
      "outputs": []
    },
    {
      "cell_type": "code",
      "metadata": {
        "id": "qAbI0PGIr4kS",
        "colab_type": "code",
        "colab": {}
      },
      "source": [
        "help(dayofweek)"
      ],
      "execution_count": 0,
      "outputs": []
    },
    {
      "cell_type": "code",
      "metadata": {
        "id": "KM0oqCDfr8Kq",
        "colab_type": "code",
        "colab": {}
      },
      "source": [
        "rc.show(5)"
      ],
      "execution_count": 0,
      "outputs": []
    },
    {
      "cell_type": "code",
      "metadata": {
        "id": "er1XdFgosAFX",
        "colab_type": "code",
        "colab": {}
      },
      "source": [
        "rc.select(col('Date'), dayofweek(col('Date'))).show(5)"
      ],
      "execution_count": 0,
      "outputs": []
    },
    {
      "cell_type": "code",
      "metadata": {
        "id": "IiCgb5tHslsC",
        "colab_type": "code",
        "colab": {}
      },
      "source": [
        "from pyspark.sql.functions import date_format"
      ],
      "execution_count": 0,
      "outputs": []
    },
    {
      "cell_type": "code",
      "metadata": {
        "id": "9IrRXwvFswis",
        "colab_type": "code",
        "colab": {}
      },
      "source": [
        "help(date_format)"
      ],
      "execution_count": 0,
      "outputs": []
    },
    {
      "cell_type": "code",
      "metadata": {
        "id": "YshUI_gps0mh",
        "colab_type": "code",
        "colab": {}
      },
      "source": [
        "rc.select(col('Date'), dayofweek(col('Date')), date_format(col('Date'), 'E')).show(5)"
      ],
      "execution_count": 0,
      "outputs": []
    },
    {
      "cell_type": "code",
      "metadata": {
        "id": "CzlabouvtC6H",
        "colab_type": "code",
        "colab": {}
      },
      "source": [
        "rc.groupBy(date_format(col('Date'), 'E')).count().show()"
      ],
      "execution_count": 0,
      "outputs": []
    },
    {
      "cell_type": "code",
      "metadata": {
        "id": "BXXghHB_tcfW",
        "colab_type": "code",
        "colab": {}
      },
      "source": [
        "rc.groupBy(date_format(col('Date'), 'E')).count().orderBy('count', ascending=False).show()"
      ],
      "execution_count": 0,
      "outputs": []
    },
    {
      "cell_type": "code",
      "metadata": {
        "id": "PBYBFYbGt0a-",
        "colab_type": "code",
        "colab": {}
      },
      "source": [
        "rc.groupBy(date_format(col('Date'), 'E')).count().collect()"
      ],
      "execution_count": 0,
      "outputs": []
    },
    {
      "cell_type": "code",
      "metadata": {
        "id": "gFtZ43Xnt7Rd",
        "colab_type": "code",
        "colab": {}
      },
      "source": [
        "day_of_week = [x[0] for x in rc.groupBy(date_format(col('Date'), 'E')).count().collect()]\n",
        "day_of_week"
      ],
      "execution_count": 0,
      "outputs": []
    },
    {
      "cell_type": "code",
      "metadata": {
        "id": "9Q7WNTnrudFf",
        "colab_type": "code",
        "colab": {}
      },
      "source": [
        "counts = [x[1] for x in rc.groupBy(date_format(col('Date'), 'E')).count().collect()]\n",
        "counts"
      ],
      "execution_count": 0,
      "outputs": []
    },
    {
      "cell_type": "markdown",
      "metadata": {
        "id": "UQB6uKDgunnH",
        "colab_type": "text"
      },
      "source": [
        "**Show graph**"
      ]
    },
    {
      "cell_type": "code",
      "metadata": {
        "id": "48wgsY3Guleq",
        "colab_type": "code",
        "colab": {}
      },
      "source": [
        "import pandas as pd\n",
        "import matplotlib.pyplot as plt"
      ],
      "execution_count": 0,
      "outputs": []
    },
    {
      "cell_type": "code",
      "metadata": {
        "id": "URdnk2qDu0Ee",
        "colab_type": "code",
        "colab": {}
      },
      "source": [
        "cp = pd.DataFrame({'Day_of_Week': day_of_week, 'Count': counts})\n",
        "cp.head(7)"
      ],
      "execution_count": 0,
      "outputs": []
    },
    {
      "cell_type": "code",
      "metadata": {
        "id": "uXx8uyrJvLPb",
        "colab_type": "code",
        "colab": {}
      },
      "source": [
        "cp.sort_values('Count', ascending=False).plot(kind='bar', color='green', x = 'Day_of_Week', y='Count')\n",
        "plt.xlabel('Day of the week')\n",
        "plt.ylabel('Count')\n",
        "plt.title('The number of reported crimes per day of the week from 2001 to present')"
      ],
      "execution_count": 0,
      "outputs": []
    },
    {
      "cell_type": "markdown",
      "metadata": {
        "id": "UVvwEd4Jyg8d",
        "colab_type": "text"
      },
      "source": [
        "# RDDs setup"
      ]
    },
    {
      "cell_type": "code",
      "metadata": {
        "id": "jXARtFPcyknf",
        "colab_type": "code",
        "colab": {}
      },
      "source": [
        "psrdd = sc.textFile('police-station.csv')\n",
        "psrdd.first()"
      ],
      "execution_count": 0,
      "outputs": []
    },
    {
      "cell_type": "code",
      "metadata": {
        "id": "G6v-jMU_zZyZ",
        "colab_type": "code",
        "colab": {}
      },
      "source": [
        "ps_header = psrdd.first()"
      ],
      "execution_count": 0,
      "outputs": []
    },
    {
      "cell_type": "code",
      "metadata": {
        "id": "y6d1-gvqzkHR",
        "colab_type": "code",
        "colab": {}
      },
      "source": [
        "ps_rest = psrdd.filter(lambda line: line!=ps_header)\n",
        "ps_rest.first()"
      ],
      "execution_count": 0,
      "outputs": []
    },
    {
      "cell_type": "markdown",
      "metadata": {
        "id": "R33BaRpd2mR1",
        "colab_type": "text"
      },
      "source": [
        "**How many police stations are there?**"
      ]
    },
    {
      "cell_type": "code",
      "metadata": {
        "id": "6UsdlO0_2q3k",
        "colab_type": "code",
        "colab": {}
      },
      "source": [
        "ps_rest.map(lambda line: line.split(',')).collect()"
      ],
      "execution_count": 0,
      "outputs": []
    },
    {
      "cell_type": "code",
      "metadata": {
        "id": "7qY80jP42889",
        "colab_type": "code",
        "colab": {}
      },
      "source": [
        "ps_rest.map(lambda line: line.split(',')).count()"
      ],
      "execution_count": 0,
      "outputs": []
    },
    {
      "cell_type": "markdown",
      "metadata": {
        "id": "M7rR-kRW3JOb",
        "colab_type": "text"
      },
      "source": [
        "**Display the District ID, District name, Address and Zip for the police station with District ID 7**"
      ]
    },
    {
      "cell_type": "code",
      "metadata": {
        "id": "hBbByeV53b-O",
        "colab_type": "code",
        "colab": {}
      },
      "source": [
        "(ps_rest.filter(lambda line: line.split(',')[0] == '7')\n",
        ".map(lambda line: (line.split(',')[0], \n",
        "                   line.split(',')[1],\n",
        "                   line.split(',')[2],\n",
        "                   line.split(',')[5]\n",
        ")).collect())"
      ],
      "execution_count": 0,
      "outputs": []
    },
    {
      "cell_type": "markdown",
      "metadata": {
        "id": "o684gtWq-dGu",
        "colab_type": "text"
      },
      "source": [
        "Police stations 10 and 11 are geographically close each other. Display the District ID, District name, Address and Zip for the police station with District ID "
      ]
    },
    {
      "cell_type": "code",
      "metadata": {
        "id": "PlmPLo9p-UMo",
        "colab_type": "code",
        "colab": {}
      },
      "source": [
        "(ps_rest.filter(lambda line: line.split(',')[0] in ['10','11'])\n",
        ".map(lambda line: (line.split(',')[0], \n",
        "                   line.split(',')[1],\n",
        "                   line.split(',')[2],\n",
        "                   line.split(',')[5]\n",
        ")).collect())"
      ],
      "execution_count": 0,
      "outputs": []
    }
  ]
}